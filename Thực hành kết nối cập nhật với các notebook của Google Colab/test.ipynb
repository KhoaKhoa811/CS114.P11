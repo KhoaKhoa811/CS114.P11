{
  "nbformat": 4,
  "nbformat_minor": 0,
  "metadata": {
    "colab": {
      "provenance": [],
      "authorship_tag": "ABX9TyOFbZbgD0OV0XhOiB5PYHVu",
      "include_colab_link": true
    },
    "kernelspec": {
      "name": "python3",
      "display_name": "Python 3"
    },
    "language_info": {
      "name": "python"
    }
  },
  "cells": [
    {
      "cell_type": "markdown",
      "metadata": {
        "id": "view-in-github",
        "colab_type": "text"
      },
      "source": [
        "<a href=\"https://colab.research.google.com/github/KhoaKhoa811/CS114.P11/blob/main/Th%E1%BB%B1c%20h%C3%A0nh%20k%E1%BA%BFt%20n%E1%BB%91i%20c%E1%BA%ADp%20nh%E1%BA%ADt%20v%E1%BB%9Bi%20c%C3%A1c%20notebook%20c%E1%BB%A7a%20Google%20Colab/test.ipynb\" target=\"_parent\"><img src=\"https://colab.research.google.com/assets/colab-badge.svg\" alt=\"Open In Colab\"/></a>"
      ]
    },
    {
      "cell_type": "code",
      "execution_count": 1,
      "metadata": {
        "colab": {
          "base_uri": "https://localhost:8080/"
        },
        "id": "nV6Z2LTMCnhc",
        "outputId": "05430352-7fc5-421f-c257-2d930e6ceb75"
      },
      "outputs": [
        {
          "output_type": "stream",
          "name": "stdout",
          "text": [
            "Hello World\n"
          ]
        }
      ],
      "source": [
        "print(\"Hello World\")"
      ]
    }
  ]
}